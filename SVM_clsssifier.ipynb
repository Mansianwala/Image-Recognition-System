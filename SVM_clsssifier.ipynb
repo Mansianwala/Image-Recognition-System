{
  "nbformat": 4,
  "nbformat_minor": 0,
  "metadata": {
    "colab": {
      "provenance": []
    },
    "kernelspec": {
      "name": "python3",
      "display_name": "Python 3"
    },
    "language_info": {
      "name": "python"
    }
  },
  "cells": [
    {
      "cell_type": "markdown",
      "source": [
        "###**Image** **Classification** **on** **CIFAR10** **Using** **SVM** **classifier** **with** **dimensionality** **reduction** **using** **PCA**"
      ],
      "metadata": {
        "id": "ZCnOClf8ddOv"
      }
    },
    {
      "cell_type": "code",
      "source": [
        "import os\n",
        "import numpy as np\n",
        "import matplotlib.pyplot as plt\n",
        "%matplotlib inline\n",
        "\n",
        "# Load the CIFAR10 dataset\n",
        "from tensorflow.keras.datasets import cifar10\n",
        "\n",
        "baseDir = os.path.dirname(os.path.abspath('__file__')) + '/'\n",
        "classesName = ['plane', 'car', 'bird', 'cat', 'deer', 'dog', 'frog', 'horse', 'ship', 'truck']\n",
        "\n",
        "(xTrain, yTrain), (xTest, yTest) = cifar10.load_data()\n",
        "xVal = xTrain[49000:, :].astype(float)\n",
        "yVal = np.squeeze(yTrain[49000:, :])\n",
        "xTrain = xTrain[:49000, :].astype(float)\n",
        "yTrain = np.squeeze(yTrain[:49000, :])\n",
        "yTest = np.squeeze(yTest)\n",
        "xTest = xTest.astype(float)\n",
        "\n",
        "print(xTrain.shape)\n",
        "print(yTrain.shape)\n",
        "xTrain = np.reshape(xTrain, (xTrain.shape[0], -1)) # The -1 means that the corresponding dimension is calculated from the other given dimensions.\n",
        "xVal = np.reshape(xVal, (xVal.shape[0], -1))\n",
        "xTest = np.reshape(xTest, (xTest.shape[0], -1))\n",
        "print(xTrain.shape)\n",
        "print(xTrain[0])\n",
        "\n",
        "# Limiting the dataset size for faster processing\n",
        "xTrain = xTrain[:10000, :]\n",
        "yTrain = yTrain[:10000]\n",
        "print(xTrain.shape)\n",
        "print(yTrain.shape)\n"
      ],
      "metadata": {
        "colab": {
          "base_uri": "https://localhost:8080/"
        },
        "id": "lwl2YqtmIzX2",
        "outputId": "35c0572b-8d2b-4b0c-f262-918e1ff712e8"
      },
      "execution_count": 3,
      "outputs": [
        {
          "output_type": "stream",
          "name": "stdout",
          "text": [
            "(49000, 32, 32, 3)\n",
            "(49000,)\n",
            "(49000, 3072)\n",
            "[ 59.  62.  63. ... 123.  92.  72.]\n",
            "(10000, 3072)\n",
            "(10000,)\n"
          ]
        }
      ]
    },
    {
      "cell_type": "code",
      "source": [
        "# Cumulative Explained variance against Number Of Components\n",
        "combined=np.vstack((xTrain,xVal))\n",
        "from sklearn.decomposition import PCA\n",
        "pca = PCA().fit(combined)\n",
        "plt.plot(np.cumsum(pca.explained_variance_ratio_))\n",
        "plt.xlabel('number of components')\n",
        "plt.ylabel('cumulative explained variance');"
      ],
      "metadata": {
        "colab": {
          "base_uri": "https://localhost:8080/",
          "height": 449
        },
        "id": "6rH6M5nZLm-X",
        "outputId": "47f2deff-ed69-493a-a9ea-9bfb49f729fb"
      },
      "execution_count": 4,
      "outputs": [
        {
          "output_type": "display_data",
          "data": {
            "text/plain": [
              "<Figure size 640x480 with 1 Axes>"
            ],
            "image/png": "[encoded data removed]"
          },
          "metadata": {}
        }
      ]
    },
    {
      "cell_type": "code",
      "source": [
        "print(pca.explained_variance_ratio_.cumsum()[149])\n",
        "print(pca.explained_variance_ratio_.cumsum()[499])"
      ],
      "metadata": {
        "colab": {
          "base_uri": "https://localhost:8080/"
        },
        "id": "Z5VZN7HNMJYZ",
        "outputId": "9556fc44-7285-4b2d-8995-1ffbd2c7367f"
      },
      "execution_count": 5,
      "outputs": [
        {
          "output_type": "stream",
          "name": "stdout",
          "text": [
            "0.9306473212588602\n",
            "0.9846410735518448\n"
          ]
        }
      ]
    },
    {
      "cell_type": "code",
      "source": [
        "# Reducing to 150 dimensions.\n",
        "pca = PCA(n_components=150) # project from 3072 to 150 dimensions\n",
        "pca.fit(combined)\n",
        "projected = pca.transform(combined)\n",
        "print(pca.explained_variance_.shape)\n",
        "print(pca.components_.shape)\n",
        "print(combined.shape)\n",
        "print(projected.shape)"
      ],
      "metadata": {
        "colab": {
          "base_uri": "https://localhost:8080/"
        },
        "id": "K6ANIFW5MMzy",
        "outputId": "0c1bce9c-757f-4ee0-fbe0-cbf952632d27"
      },
      "execution_count": 6,
      "outputs": [
        {
          "output_type": "stream",
          "name": "stdout",
          "text": [
            "(150,)\n",
            "(150, 3072)\n",
            "(11000, 3072)\n",
            "(11000, 150)\n"
          ]
        }
      ]
    },
    {
      "cell_type": "code",
      "source": [
        "x_train=projected[:10000,:]\n",
        "y_train=yTrain\n",
        "\n",
        "x_test=projected[10000:,:]\n",
        "y_test=yVal"
      ],
      "metadata": {
        "id": "Hq7xKtQhMPyq"
      },
      "execution_count": 7,
      "outputs": []
    },
    {
      "cell_type": "code",
      "source": [
        "print(x_train.shape)\n",
        "print(y_train.shape)\n",
        "print(x_test.shape)\n",
        "print(y_test.shape)"
      ],
      "metadata": {
        "colab": {
          "base_uri": "https://localhost:8080/"
        },
        "id": "zQZJ4b1mMaTW",
        "outputId": "9d1679dc-3a8e-4cba-e668-4e7e10d7996d"
      },
      "execution_count": 8,
      "outputs": [
        {
          "output_type": "stream",
          "name": "stdout",
          "text": [
            "(10000, 150)\n",
            "(10000,)\n",
            "(1000, 150)\n",
            "(1000,)\n"
          ]
        }
      ]
    },
    {
      "cell_type": "code",
      "source": [
        "from sklearn import svm\n",
        "svc = svm.SVC(probability=False,  kernel=\"poly\", C=1)\n",
        "svc.fit(x_train, y_train)"
      ],
      "metadata": {
        "colab": {
          "base_uri": "https://localhost:8080/",
          "height": 74
        },
        "id": "9SJCaEKaMg5o",
        "outputId": "9afd8f70-a42b-46e3-d2ba-f0887e6cf292"
      },
      "execution_count": 9,
      "outputs": [
        {
          "output_type": "execute_result",
          "data": {
            "text/plain": [
              "SVC(C=1, kernel='poly')"
            ],
            "text/html": [
              "<style>#sk-container-id-1 {color: black;background-color: white;}#sk-container-id-1 pre{padding: 0;}#sk-container-id-1 div.sk-toggleable {background-color: white;}#sk-container-id-1 label.sk-toggleable__label {cursor: pointer;display: block;width: 100%;margin-bottom: 0;padding: 0.3em;box-sizing: border-box;text-align: center;}#sk-container-id-1 label.sk-toggleable__label-arrow:before {content: \"▸\";float: left;margin-right: 0.25em;color: #696969;}#sk-container-id-1 label.sk-toggleable__label-arrow:hover:before {color: black;}#sk-container-id-1 div.sk-estimator:hover label.sk-toggleable__label-arrow:before {color: black;}#sk-container-id-1 div.sk-toggleable__content {max-height: 0;max-width: 0;overflow: hidden;text-align: left;background-color: #f0f8ff;}#sk-container-id-1 div.sk-toggleable__content pre {margin: 0.2em;color: black;border-radius: 0.25em;background-color: #f0f8ff;}#sk-container-id-1 input.sk-toggleable__control:checked~div.sk-toggleable__content {max-height: 200px;max-width: 100%;overflow: auto;}#sk-container-id-1 input.sk-toggleable__control:checked~label.sk-toggleable__label-arrow:before {content: \"▾\";}#sk-container-id-1 div.sk-estimator input.sk-toggleable__control:checked~label.sk-toggleable__label {background-color: #d4ebff;}#sk-container-id-1 div.sk-label input.sk-toggleable__control:checked~label.sk-toggleable__label {background-color: #d4ebff;}#sk-container-id-1 input.sk-hidden--visually {border: 0;clip: rect(1px 1px 1px 1px);clip: rect(1px, 1px, 1px, 1px);height: 1px;margin: -1px;overflow: hidden;padding: 0;position: absolute;width: 1px;}#sk-container-id-1 div.sk-estimator {font-family: monospace;background-color: #f0f8ff;border: 1px dotted black;border-radius: 0.25em;box-sizing: border-box;margin-bottom: 0.5em;}#sk-container-id-1 div.sk-estimator:hover {background-color: #d4ebff;}#sk-container-id-1 div.sk-parallel-item::after {content: \"\";width: 100%;border-bottom: 1px solid gray;flex-grow: 1;}#sk-container-id-1 div.sk-label:hover label.sk-toggleable__label {background-color: #d4ebff;}#sk-container-id-1 div.sk-serial::before {content: \"\";position: absolute;border-left: 1px solid gray;box-sizing: border-box;top: 0;bottom: 0;left: 50%;z-index: 0;}#sk-container-id-1 div.sk-serial {display: flex;flex-direction: column;align-items: center;background-color: white;padding-right: 0.2em;padding-left: 0.2em;position: relative;}#sk-container-id-1 div.sk-item {position: relative;z-index: 1;}#sk-container-id-1 div.sk-parallel {display: flex;align-items: stretch;justify-content: center;background-color: white;position: relative;}#sk-container-id-1 div.sk-item::before, #sk-container-id-1 div.sk-parallel-item::before {content: \"\";position: absolute;border-left: 1px solid gray;box-sizing: border-box;top: 0;bottom: 0;left: 50%;z-index: -1;}#sk-container-id-1 div.sk-parallel-item {display: flex;flex-direction: column;z-index: 1;position: relative;background-color: white;}#sk-container-id-1 div.sk-parallel-item:first-child::after {align-self: flex-end;width: 50%;}#sk-container-id-1 div.sk-parallel-item:last-child::after {align-self: flex-start;width: 50%;}#sk-container-id-1 div.sk-parallel-item:only-child::after {width: 0;}#sk-container-id-1 div.sk-dashed-wrapped {border: 1px dashed gray;margin: 0 0.4em 0.5em 0.4em;box-sizing: border-box;padding-bottom: 0.4em;background-color: white;}#sk-container-id-1 div.sk-label label {font-family: monospace;font-weight: bold;display: inline-block;line-height: 1.2em;}#sk-container-id-1 div.sk-label-container {text-align: center;}#sk-container-id-1 div.sk-container {/* jupyter's `normalize.less` sets `[hidden] { display: none; }` but bootstrap.min.css set `[hidden] { display: none !important; }` so we also need the `!important` here to be able to override the default hidden behavior on the sphinx rendered scikit-learn.org. See: https://github.com/scikit-learn/scikit-learn/issues/21755 */display: inline-block !important;position: relative;}#sk-container-id-1 div.sk-text-repr-fallback {display: none;}</style><div id=\"sk-container-id-1\" class=\"sk-top-container\"><div class=\"sk-text-repr-fallback\"><pre>SVC(C=1, kernel=&#x27;poly&#x27;)</pre><b>In a Jupyter environment, please rerun this cell to show the HTML representation or trust the notebook. <br />On GitHub, the HTML representation is unable to render, please try loading this page with nbviewer.org.</b></div><div class=\"sk-container\" hidden><div class=\"sk-item\"><div class=\"sk-estimator sk-toggleable\"><input class=\"sk-toggleable__control sk-hidden--visually\" id=\"sk-estimator-id-1\" type=\"checkbox\" checked><label for=\"sk-estimator-id-1\" class=\"sk-toggleable__label sk-toggleable__label-arrow\">SVC</label><div class=\"sk-toggleable__content\"><pre>SVC(C=1, kernel=&#x27;poly&#x27;)</pre></div></div></div></div></div>"
            ]
          },
          "metadata": {},
          "execution_count": 9
        }
      ]
    },
    {
      "cell_type": "code",
      "source": [
        "# Accuracy calculation for train set\n",
        "pred = svc.predict(x_train)\n",
        "acc_train = np.mean(pred == y_train)\n",
        "print('Train Accuracy = {0:f}'.format(acc_train))\n",
        "print(pred)"
      ],
      "metadata": {
        "colab": {
          "base_uri": "https://localhost:8080/"
        },
        "id": "SswWwN9BMt5h",
        "outputId": "78a8adbe-17b1-4d82-db6b-3287e34e2b65"
      },
      "execution_count": 10,
      "outputs": [
        {
          "output_type": "stream",
          "name": "stdout",
          "text": [
            "Train Accuracy = 0.675600\n",
            "[6 9 9 ... 1 1 7]\n"
          ]
        }
      ]
    },
    {
      "cell_type": "code",
      "source": [
        "# Accuracy calculation for test set\n",
        "pred = svc.predict(x_test)\n",
        "acc_test = np.mean(pred == y_test)\n",
        "print('Test Accuracy = {0:f}'.format(acc_test))\n",
        "print(pred)"
      ],
      "metadata": {
        "colab": {
          "base_uri": "https://localhost:8080/"
        },
        "id": "BR5_Sr7tMxpM",
        "outputId": "1b49d19b-7f1a-4e97-e57b-184cc37825c8"
      },
      "execution_count": 11,
      "outputs": [
        {
          "output_type": "stream",
          "name": "stdout",
          "text": [
            "Test Accuracy = 0.402000\n",
            "[8 4 2 7 2 2 0 8 2 3 7 9 9 2 4 3 2 2 8 2 2 1 4 2 8 2 9 2 2 8 4 1 2 4 3 9 2\n",
            " 7 2 3 1 6 8 8 6 1 2 4 5 2 0 2 5 4 8 4 6 9 7 2 8 2 2 9 9 9 1 0 4 3 2 7 2 4\n",
            " 4 2 7 2 3 0 6 2 1 3 1 8 8 8 2 2 8 0 2 2 6 6 1 4 4 2 8 5 8 7 2 6 4 0 8 4 4\n",
            " 7 9 3 4 1 3 2 2 6 3 4 1 9 2 9 2 2 0 3 0 2 9 2 8 6 2 9 4 7 2 4 2 2 2 6 6 1\n",
            " 9 2 1 2 0 2 0 2 2 1 9 2 8 8 7 1 0 1 8 8 0 0 3 2 2 8 0 7 9 2 2 4 8 9 9 7 8\n",
            " 2 1 4 5 2 5 8 4 8 8 8 8 3 4 7 4 8 2 7 1 1 9 2 9 6 4 9 1 2 2 2 3 9 6 8 2 2\n",
            " 3 2 2 1 4 5 2 4 1 4 1 3 1 8 0 2 8 1 2 6 4 2 1 0 8 8 2 6 2 4 2 8 1 0 2 8 9\n",
            " 5 4 6 7 2 7 2 9 5 2 1 4 3 4 9 2 2 2 6 2 9 4 2 6 2 1 4 1 9 5 6 2 8 4 4 4 9\n",
            " 8 2 2 3 7 3 4 9 5 6 8 2 8 6 2 4 4 2 2 6 4 4 4 4 6 4 8 7 4 2 4 6 2 4 8 7 2\n",
            " 5 2 4 8 1 0 2 8 4 6 4 8 2 2 0 4 2 2 2 4 4 9 7 2 2 8 4 2 9 2 7 2 1 6 7 4 9\n",
            " 9 8 8 0 8 2 2 5 2 8 3 1 6 1 2 9 3 2 8 2 7 4 3 8 6 1 4 7 2 7 8 1 4 6 1 9 4\n",
            " 3 2 1 6 1 2 9 4 8 1 4 4 3 8 6 4 0 3 4 1 8 6 8 2 2 4 6 8 1 1 5 6 0 6 0 8 8\n",
            " 6 8 8 6 6 2 2 7 3 4 7 4 6 0 4 4 7 1 4 3 6 8 0 0 3 1 3 0 7 9 2 4 2 9 2 8 6\n",
            " 4 4 1 5 2 1 4 4 1 2 1 2 5 1 3 6 0 0 6 1 8 2 4 4 1 3 7 4 6 2 2 6 4 2 4 6 0\n",
            " 4 4 9 1 3 2 3 0 9 2 2 9 8 7 8 4 9 2 2 2 2 4 2 4 8 2 6 4 9 4 6 5 6 2 4 8 9\n",
            " 2 0 3 0 0 3 2 1 4 4 4 7 8 8 2 8 7 9 2 0 2 5 6 9 5 9 6 2 1 2 1 4 4 2 6 1 8\n",
            " 7 9 1 2 9 4 4 2 4 9 6 6 1 4 9 4 2 3 6 9 2 4 2 2 1 2 3 6 2 6 4 2 6 8 3 0 8\n",
            " 7 7 8 5 2 9 3 2 6 4 6 2 2 9 2 2 6 5 3 7 2 4 4 4 6 8 2 8 8 2 4 0 2 2 8 4 2\n",
            " 6 6 3 2 3 4 9 2 4 2 8 8 2 8 3 2 9 6 0 2 2 2 4 7 8 2 6 4 9 0 8 2 6 2 2 8 1\n",
            " 2 4 9 4 6 6 4 6 8 8 2 3 5 8 7 4 4 2 4 2 4 2 2 5 2 7 2 2 5 9 1 8 0 8 7 4 0\n",
            " 2 3 2 2 8 4 8 2 1 4 2 4 8 4 2 4 6 8 4 2 6 0 3 4 8 1 1 0 1 8 3 6 7 4 4 6 6\n",
            " 1 8 3 8 2 4 9 6 1 7 2 8 5 9 7 3 7 7 1 2 3 3 7 2 7 2 6 6 8 2 2 2 7 4 2 4 2\n",
            " 9 9 0 4 4 7 1 8 5 2 2 2 4 8 7 2 8 2 4 7 2 3 6 0 8 8 2 2 8 3 8 2 7 1 2 1 7\n",
            " 8 8 2 6 2 0 8 2 4 4 8 0 0 9 1 2 5 0 2 2 1 3 2 2 1 8 8 9 9 9 2 5 0 3 5 1 8\n",
            " 2 3 4 8 4 7 0 6 0 8 4 2 2 8 4 4 9 8 2 7 9 6 8 5 5 4 6 8 2 9 2 1 2 0 3 2 0\n",
            " 2 9 3 4 6 1 9 9 3 3 2 8 3 3 4 3 2 9 7 1 3 4 9 6 4 4 4 4 3 4 8 4 4 2 2 2 4\n",
            " 6 2 5 3 6 2 8 2 3 9 8 2 2 8 4 1 6 5 8 2 6 4 2 8 4 2 2 0 2 3 2 8 2 8 4 9 8\n",
            " 2]\n"
          ]
        }
      ]
    },
    {
      "cell_type": "code",
      "source": [
        "# Reducing to 500 dimensions.\n",
        "pca = PCA(n_components=500) # project from 3072 to 500 dimensions\n",
        "pca.fit(combined)\n",
        "projected = pca.transform(combined)\n",
        "print(pca.explained_variance_.shape)\n",
        "print(pca.components_.shape)\n",
        "print(combined.shape)\n",
        "print(projected.shape)"
      ],
      "metadata": {
        "colab": {
          "base_uri": "https://localhost:8080/"
        },
        "id": "NagsdHf2cQrD",
        "outputId": "1408c462-5369-456b-c14e-1bf11755b9e3"
      },
      "execution_count": 26,
      "outputs": [
        {
          "output_type": "stream",
          "name": "stdout",
          "text": [
            "(500,)\n",
            "(500, 3072)\n",
            "(11000, 3072)\n",
            "(11000, 500)\n"
          ]
        }
      ]
    },
    {
      "cell_type": "code",
      "source": [
        "x_train=projected[:10000,:]\n",
        "y_train=yTrain\n",
        "\n",
        "x_test=projected[10000:,:]\n",
        "y_test=yVal"
      ],
      "metadata": {
        "id": "uxQNgslQcTKy"
      },
      "execution_count": 27,
      "outputs": []
    },
    {
      "cell_type": "code",
      "source": [
        "print(x_train.shape)\n",
        "print(y_train.shape)\n",
        "print(x_test.shape)\n",
        "print(y_test.shape)"
      ],
      "metadata": {
        "colab": {
          "base_uri": "https://localhost:8080/"
        },
        "id": "BC6zVoMmcVHO",
        "outputId": "73040f3f-6e71-444d-e350-6b3585fe904a"
      },
      "execution_count": 28,
      "outputs": [
        {
          "output_type": "stream",
          "name": "stdout",
          "text": [
            "(10000, 500)\n",
            "(10000,)\n",
            "(1000, 500)\n",
            "(1000,)\n"
          ]
        }
      ]
    },
    {
      "cell_type": "code",
      "source": [
        "from sklearn import svm\n",
        "svc = svm.SVC(probability=False,  kernel=\"poly\", C=1)\n",
        "svc.fit(x_train, y_train)"
      ],
      "metadata": {
        "colab": {
          "base_uri": "https://localhost:8080/",
          "height": 74
        },
        "id": "YRaHCP3CcZD9",
        "outputId": "0a19881e-8389-47a5-f815-58d3ec15f8ed"
      },
      "execution_count": 30,
      "outputs": [
        {
          "output_type": "execute_result",
          "data": {
            "text/plain": [
              "SVC(C=1, kernel='poly')"
            ],
            "text/html": [
              "<style>#sk-container-id-2 {color: black;background-color: white;}#sk-container-id-2 pre{padding: 0;}#sk-container-id-2 div.sk-toggleable {background-color: white;}#sk-container-id-2 label.sk-toggleable__label {cursor: pointer;display: block;width: 100%;margin-bottom: 0;padding: 0.3em;box-sizing: border-box;text-align: center;}#sk-container-id-2 label.sk-toggleable__label-arrow:before {content: \"▸\";float: left;margin-right: 0.25em;color: #696969;}#sk-container-id-2 label.sk-toggleable__label-arrow:hover:before {color: black;}#sk-container-id-2 div.sk-estimator:hover label.sk-toggleable__label-arrow:before {color: black;}#sk-container-id-2 div.sk-toggleable__content {max-height: 0;max-width: 0;overflow: hidden;text-align: left;background-color: #f0f8ff;}#sk-container-id-2 div.sk-toggleable__content pre {margin: 0.2em;color: black;border-radius: 0.25em;background-color: #f0f8ff;}#sk-container-id-2 input.sk-toggleable__control:checked~div.sk-toggleable__content {max-height: 200px;max-width: 100%;overflow: auto;}#sk-container-id-2 input.sk-toggleable__control:checked~label.sk-toggleable__label-arrow:before {content: \"▾\";}#sk-container-id-2 div.sk-estimator input.sk-toggleable__control:checked~label.sk-toggleable__label {background-color: #d4ebff;}#sk-container-id-2 div.sk-label input.sk-toggleable__control:checked~label.sk-toggleable__label {background-color: #d4ebff;}#sk-container-id-2 input.sk-hidden--visually {border: 0;clip: rect(1px 1px 1px 1px);clip: rect(1px, 1px, 1px, 1px);height: 1px;margin: -1px;overflow: hidden;padding: 0;position: absolute;width: 1px;}#sk-container-id-2 div.sk-estimator {font-family: monospace;background-color: #f0f8ff;border: 1px dotted black;border-radius: 0.25em;box-sizing: border-box;margin-bottom: 0.5em;}#sk-container-id-2 div.sk-estimator:hover {background-color: #d4ebff;}#sk-container-id-2 div.sk-parallel-item::after {content: \"\";width: 100%;border-bottom: 1px solid gray;flex-grow: 1;}#sk-container-id-2 div.sk-label:hover label.sk-toggleable__label {background-color: #d4ebff;}#sk-container-id-2 div.sk-serial::before {content: \"\";position: absolute;border-left: 1px solid gray;box-sizing: border-box;top: 0;bottom: 0;left: 50%;z-index: 0;}#sk-container-id-2 div.sk-serial {display: flex;flex-direction: column;align-items: center;background-color: white;padding-right: 0.2em;padding-left: 0.2em;position: relative;}#sk-container-id-2 div.sk-item {position: relative;z-index: 1;}#sk-container-id-2 div.sk-parallel {display: flex;align-items: stretch;justify-content: center;background-color: white;position: relative;}#sk-container-id-2 div.sk-item::before, #sk-container-id-2 div.sk-parallel-item::before {content: \"\";position: absolute;border-left: 1px solid gray;box-sizing: border-box;top: 0;bottom: 0;left: 50%;z-index: -1;}#sk-container-id-2 div.sk-parallel-item {display: flex;flex-direction: column;z-index: 1;position: relative;background-color: white;}#sk-container-id-2 div.sk-parallel-item:first-child::after {align-self: flex-end;width: 50%;}#sk-container-id-2 div.sk-parallel-item:last-child::after {align-self: flex-start;width: 50%;}#sk-container-id-2 div.sk-parallel-item:only-child::after {width: 0;}#sk-container-id-2 div.sk-dashed-wrapped {border: 1px dashed gray;margin: 0 0.4em 0.5em 0.4em;box-sizing: border-box;padding-bottom: 0.4em;background-color: white;}#sk-container-id-2 div.sk-label label {font-family: monospace;font-weight: bold;display: inline-block;line-height: 1.2em;}#sk-container-id-2 div.sk-label-container {text-align: center;}#sk-container-id-2 div.sk-container {/* jupyter's `normalize.less` sets `[hidden] { display: none; }` but bootstrap.min.css set `[hidden] { display: none !important; }` so we also need the `!important` here to be able to override the default hidden behavior on the sphinx rendered scikit-learn.org. See: https://github.com/scikit-learn/scikit-learn/issues/21755 */display: inline-block !important;position: relative;}#sk-container-id-2 div.sk-text-repr-fallback {display: none;}</style><div id=\"sk-container-id-2\" class=\"sk-top-container\"><div class=\"sk-text-repr-fallback\"><pre>SVC(C=1, kernel=&#x27;poly&#x27;)</pre><b>In a Jupyter environment, please rerun this cell to show the HTML representation or trust the notebook. <br />On GitHub, the HTML representation is unable to render, please try loading this page with nbviewer.org.</b></div><div class=\"sk-container\" hidden><div class=\"sk-item\"><div class=\"sk-estimator sk-toggleable\"><input class=\"sk-toggleable__control sk-hidden--visually\" id=\"sk-estimator-id-2\" type=\"checkbox\" checked><label for=\"sk-estimator-id-2\" class=\"sk-toggleable__label sk-toggleable__label-arrow\">SVC</label><div class=\"sk-toggleable__content\"><pre>SVC(C=1, kernel=&#x27;poly&#x27;)</pre></div></div></div></div></div>"
            ]
          },
          "metadata": {},
          "execution_count": 30
        }
      ]
    },
    {
      "cell_type": "code",
      "source": [
        "# Accuracy calculation for training set\n",
        "pred = svc.predict(x_train)\n",
        "acc_train = np.mean(pred == y_train)\n",
        "print('Train Accuracy = {0:f}'.format(acc_train))\n",
        "print(pred)"
      ],
      "metadata": {
        "colab": {
          "base_uri": "https://localhost:8080/"
        },
        "id": "v1_zJtJLccdt",
        "outputId": "668e6ffe-16f5-48f9-eb9b-e1205d6cc6dc"
      },
      "execution_count": 31,
      "outputs": [
        {
          "output_type": "stream",
          "name": "stdout",
          "text": [
            "Train Accuracy = 0.711600\n",
            "[6 9 9 ... 1 1 7]\n"
          ]
        }
      ]
    },
    {
      "cell_type": "code",
      "source": [
        "# Accuracy calculation for test set\n",
        "pred = svc.predict(x_test)\n",
        "acc_test = np.mean(pred == y_test)\n",
        "print('Test Accuracy = {0:f}'.format(acc_test))\n",
        "print(pred)"
      ],
      "metadata": {
        "colab": {
          "base_uri": "https://localhost:8080/"
        },
        "id": "pbOPLQe0ceV7",
        "outputId": "1bc84e3b-0f05-4f11-f023-c7cf69429684"
      },
      "execution_count": 32,
      "outputs": [
        {
          "output_type": "stream",
          "name": "stdout",
          "text": [
            "Test Accuracy = 0.395000\n",
            "[8 5 2 7 2 2 0 8 2 3 4 9 9 2 4 3 2 2 8 2 2 1 4 2 8 2 9 2 2 3 4 1 4 4 3 9 2\n",
            " 7 2 3 1 6 8 8 6 1 2 7 5 2 0 4 5 4 8 4 4 9 7 2 8 2 2 9 9 9 1 0 4 3 2 7 2 4\n",
            " 4 2 7 2 3 0 6 2 1 2 1 8 8 8 2 2 8 0 2 2 6 6 1 4 4 2 8 5 8 7 2 6 4 0 8 4 4\n",
            " 7 9 3 4 1 3 2 2 6 3 4 1 9 2 9 2 2 0 3 0 2 9 2 8 6 2 4 4 7 2 4 2 2 2 6 6 1\n",
            " 9 2 1 2 0 2 0 2 2 1 1 2 8 8 7 1 0 1 8 8 8 0 3 2 2 2 0 2 9 2 2 4 8 9 9 7 8\n",
            " 2 1 4 5 2 5 8 4 8 8 8 8 3 4 4 4 8 2 7 1 1 9 2 9 6 4 9 1 2 2 2 3 9 7 8 2 2\n",
            " 3 2 2 9 4 5 2 4 1 4 1 3 1 8 0 2 8 1 2 6 4 2 1 0 8 8 2 6 2 4 2 8 1 0 2 8 9\n",
            " 5 4 6 7 2 7 2 9 3 2 1 4 3 4 9 2 2 2 6 2 9 4 2 6 2 9 4 3 9 5 6 2 8 4 4 4 9\n",
            " 8 2 2 3 7 3 2 9 5 6 8 2 8 6 2 2 4 2 2 6 4 4 4 4 6 4 8 7 4 2 4 3 2 4 8 7 2\n",
            " 5 2 4 8 1 0 2 8 2 6 4 8 2 2 0 4 2 2 2 4 2 9 7 2 2 8 4 2 9 2 7 2 1 6 4 4 9\n",
            " 9 8 8 0 8 2 2 5 2 8 3 1 6 1 2 9 3 2 8 2 7 4 3 8 6 1 4 7 2 7 8 1 4 6 1 9 4\n",
            " 2 2 1 6 1 2 9 4 8 1 4 4 3 0 6 4 0 2 4 1 8 6 8 2 2 4 6 8 1 1 5 6 0 6 0 8 8\n",
            " 6 8 8 6 6 2 2 7 3 7 7 4 6 0 4 4 7 4 4 3 6 8 0 0 3 1 3 0 7 9 2 4 2 9 2 8 6\n",
            " 6 4 1 5 2 1 4 4 1 2 1 2 5 1 3 6 0 0 6 1 8 2 4 4 1 4 7 4 6 2 2 6 4 2 4 6 0\n",
            " 4 4 9 1 3 2 3 0 9 4 2 7 8 7 8 2 9 2 2 2 2 4 2 4 8 2 6 4 8 4 6 5 6 2 4 8 9\n",
            " 2 0 3 0 0 3 2 1 4 4 4 7 8 8 2 8 7 9 2 0 2 5 6 9 5 9 6 2 9 2 1 4 4 2 6 1 8\n",
            " 7 9 1 2 9 4 4 2 4 9 6 6 1 4 7 4 2 3 6 9 2 4 2 2 1 2 3 6 2 6 2 2 6 8 3 0 8\n",
            " 7 7 8 5 2 9 3 2 7 4 6 2 2 9 9 2 6 5 2 7 2 4 4 4 6 8 2 8 8 2 4 0 2 2 8 4 2\n",
            " 6 6 3 2 9 4 9 2 4 2 8 8 2 8 3 2 9 6 0 2 2 2 4 7 8 2 6 4 9 8 8 2 6 2 2 8 1\n",
            " 2 4 9 4 6 6 3 6 8 8 2 3 5 8 7 4 4 2 4 2 4 2 2 5 2 7 2 4 5 9 6 8 0 8 7 4 0\n",
            " 2 3 5 2 8 4 8 2 1 4 2 4 8 4 2 2 6 8 4 2 6 0 3 4 8 1 1 0 1 8 2 6 7 4 4 6 6\n",
            " 2 8 3 8 2 4 9 6 1 7 2 8 5 9 7 3 7 7 1 2 3 3 7 2 7 2 6 6 8 2 2 2 7 4 2 4 2\n",
            " 9 9 0 4 4 7 1 8 5 2 2 2 4 8 7 2 8 2 4 7 2 3 6 0 8 8 2 2 8 3 8 2 7 1 2 1 7\n",
            " 8 8 2 6 2 0 8 2 4 2 8 0 0 9 1 2 5 0 2 2 2 3 2 2 1 8 8 9 9 9 2 5 0 2 5 1 8\n",
            " 2 3 4 8 4 4 0 6 0 8 4 2 2 8 4 4 9 8 2 7 9 6 8 5 5 4 6 8 2 9 2 1 2 0 3 2 0\n",
            " 2 9 3 4 6 0 9 9 7 3 2 8 3 3 4 3 2 9 7 1 3 4 9 6 4 4 4 4 3 4 8 4 4 2 2 2 4\n",
            " 6 2 5 3 6 2 8 2 3 9 8 2 2 8 4 1 3 5 8 2 6 4 4 8 4 2 2 7 3 3 2 8 2 8 4 9 8\n",
            " 2]\n"
          ]
        }
      ]
    },
    {
      "cell_type": "markdown",
      "source": [
        "## **Conclusion**\n",
        "Here, we can see that the test accuracy decreases from 40.2% to 39.6% if we increase the number of components from 150 to 500.\n",
        "\n",
        "\n",
        "---\n",
        "\n"
      ],
      "metadata": {
        "id": "JgXs1pPhfMVz"
      }
    },
    {
      "cell_type": "markdown",
      "source": [
        "## Image Retrieval"
      ],
      "metadata": {
        "id": "mDITyndtfyxL"
      }
    },
    {
      "cell_type": "code",
      "source": [
        "from sklearn.metrics.pairwise import cosine_similarity\n",
        "\n",
        "# 1. Extract features from the query image\n",
        "query_image_index = np.random.randint(0, len(xTest)) #Random image selection from test set\n",
        "query_image = xTest[query_image_index]\n",
        "query_feature = pca.transform(query_image.reshape(1, -1))  # Transform the query image using PCA\n",
        "\n",
        "# 2. Predict the class label of the query image using the trained SVM classifier\n",
        "predicted_label = svc.predict(query_feature)[0]\n",
        "\n",
        "# 3. Retrieve images from the dataset that belong to the same class as the predicted label\n",
        "relevant_indices = np.where(yTrain == predicted_label)[0]\n",
        "relevant_images = xTrain[relevant_indices]\n",
        "\n",
        "# 4. Calculate cosine similarities between the query image and relevant images\n",
        "cosine_similarities = cosine_similarity(query_feature, pca.transform(relevant_images))\n",
        "\n",
        "# 5. Sort relevant images based on cosine similarities and get the top 10\n",
        "sorted_indices = np.argsort(cosine_similarities[0])[::-1][:10]\n",
        "top_10_relevant_images = relevant_images[sorted_indices]\n",
        "\n",
        "# 6. Display the top 10 relevant images\n",
        "plt.figure(figsize=(15, 5))\n",
        "for i in range(10):\n",
        "    plt.subplot(2, 5, i + 1)\n",
        "    plt.imshow(top_10_relevant_images[i].reshape(32, 32, 3).astype(np.uint8))\n",
        "    plt.title(f'Relevant Image {i+1}')\n",
        "    plt.axis('off')\n",
        "\n",
        "# Display the query image\n",
        "plt.figure(figsize=(5, 5))\n",
        "plt.imshow(query_image.reshape(32, 32, 3).astype(np.uint8))\n",
        "plt.title('Query Image')\n",
        "plt.axis('off')\n",
        "plt.show()\n",
        "\n"
      ],
      "metadata": {
        "colab": {
          "base_uri": "https://localhost:8080/",
          "height": 855
        },
        "id": "JBvnEDbwOnhf",
        "outputId": "47e68d2c-3ce5-429c-f25d-0b82b299d42b"
      },
      "execution_count": 35,
      "outputs": [
        {
          "output_type": "display_data",
          "data": {
            "text/plain": [
              "<Figure size 1500x500 with 10 Axes>"
            ],
            "image/png": "[encoded data removed]"
          },
          "metadata": {}
        },
        {
          "output_type": "display_data",
          "data": {
            "text/plain": [
              "<Figure size 500x500 with 1 Axes>"
            ],
            "image/png": "[encoded data removed]"
          },
          "metadata": {}
        }
      ]
    }
  ]
}